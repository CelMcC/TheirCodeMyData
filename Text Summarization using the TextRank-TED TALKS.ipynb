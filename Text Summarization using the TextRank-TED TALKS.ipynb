{
 "cells": [
  {
   "cell_type": "markdown",
   "metadata": {},
   "source": [
    "# Text summarisation using PageRank?\n",
    "\n",
    "I saw this approach on Medium...\n",
    "https://medium.com/analytics-vidhya/an-introduction-to-text-summarization-using-the-textrank-algorithm-with-python-implementation-2370c39d0c60\n",
    "\n",
    "And immediately knew I had to give it a try on my TED Talks data..."
   ]
  },
  {
   "cell_type": "code",
   "execution_count": 1,
   "metadata": {},
   "outputs": [],
   "source": [
    "import numpy as np \n",
    "import pandas as pd \n",
    "import nltk \n",
    "import re"
   ]
  },
  {
   "cell_type": "code",
   "execution_count": 2,
   "metadata": {},
   "outputs": [
    {
     "name": "stdout",
     "output_type": "stream",
     "text": [
      "   ID        date       author  \\\n",
      "0   1  2017-02-17  Grady Booch   \n",
      "1   2  2020-03-24    Stefan Al   \n",
      "\n",
      "                                         long_title  \\\n",
      "0       Grady Booch: Don't fear superintelligent AI   \n",
      "1  Stefan Al: Why isn't the Netherlands underwater?   \n",
      "\n",
      "                                            keywords  \\\n",
      "0  TED, Talks, Themes, Speakers, Technology, Ente...   \n",
      "1  TED, Talks, Themes, Speakers, Technology, Ente...   \n",
      "\n",
      "                                         description  \\\n",
      "0  New tech spawns new anxieties, says scientist ...   \n",
      "1  In January 1953, a tidal surge shook the North...   \n",
      "\n",
      "                                   title      author2  \\\n",
      "0         Don't fear superintelligent AI  Grady Booch   \n",
      "1  Why isn't the Netherlands underwater?    Stefan Al   \n",
      "\n",
      "                                           full_text  Year  \n",
      "0  When I was a kid, I was the quintessential ner...  2017  \n",
      "1  In January of 1953, a tidal surge shook the No...  2020  \n"
     ]
    }
   ],
   "source": [
    "df = pd.read_csv(\"~/Documents/Twitter/TED_data.csv\")\n",
    "df.head()\n",
    "dt = df.iloc[:2]\n",
    "print(dt)"
   ]
  },
  {
   "cell_type": "code",
   "execution_count": 3,
   "metadata": {},
   "outputs": [
    {
     "data": {
      "text/plain": [
       "'When I was a kid, I was the quintessential nerd. I think some of you were, too.  And you, sir, who laughed the loudest, you probably still are.  I grew up in a small town in the dusty plains of north Texas, the son of a sheriff who was the son of a pastor. Getting into trouble was not an option. And so I started reading calculus books for fun.  You did, too. That led me to building a laser and a computer and model rockets, and that led me to making rocket fuel in my bedroom. Now, in scientific terms, we call this a very bad idea.  Around that same time, Stanley Kubrick\\'s \"2001: A Space Odyssey\" came to the theaters, and my life was forever changed. I loved everything about that movie, especially the HAL 9000. Now, HAL was a sentient computer designed to guide the Discovery spacecraft from the Earth to Jupiter. HAL was also a flawed character, for in the end he chose to value the mission over human life. Now, HAL was a fictional character, but nonetheless he speaks to our fears, our fears of being subjugated by some unfeeling, artificial intelligence who is indifferent to our humanity. I believe that such fears are unfounded. Indeed, we stand at a remarkable time in human history, where, driven by refusal to accept the limits of our bodies and our minds, we are building machines of exquisite, beautiful complexity and grace that will extend the human experience in ways beyond our imagining. After a career that led me from the Air Force Academy to Space Command to now, I became a systems engineer, and recently I was drawn into an engineering problem associated with NASA\\'s mission to Mars. Now, in space flights to the Moon, we can rely upon mission control in Houston to watch over all aspects of a flight. However, Mars is 200 times further away, and as a result it takes on average 13 minutes for a signal to travel from the Earth to Mars. If there\\'s trouble, there\\'s not enough time. And so a reasonable engineering solution calls for us to put mission control inside the walls of the Orion spacecraft. Another fascinating idea in the mission profile places humanoid robots on the surface of Mars before the humans themselves arrive, first to build facilities and later to serve as collaborative members of the science team. Now, as I looked at this from an engineering perspective, it became very clear to me that what I needed to architect was a smart, collaborative, socially intelligent artificial intelligence. In other words, I needed to build something very much like a HAL but without the homicidal tendencies.  Let\\'s pause for a moment. Is it really possible to build an artificial intelligence like that? Actually, it is. In many ways, this is a hard engineering problem with elements of AI, not some wet hair ball of an AI problem that needs to be engineered. To paraphrase Alan Turing, I\\'m not interested in building a sentient machine. I\\'m not building a HAL. All I\\'m after is a simple brain, something that offers the illusion of intelligence. The art and the science of computing have come a long way since HAL was onscreen, and I\\'d imagine if his inventor Dr. Chandra were here today, he\\'d have a whole lot of questions for us. Is it really possible for us to take a system of millions upon millions of devices, to read in their data streams, to predict their failures and act in advance? Yes. Can we build systems that converse with humans in natural language? Yes. Can we build systems that recognize objects, identify emotions, emote themselves, play games and even read lips? Yes. Can we build a system that sets goals, that carries out plans against those goals and learns along the way? Yes. Can we build systems that have a theory of mind? This we are learning to do. Can we build systems that have an ethical and moral foundation? This we must learn how to do. So let\\'s accept for a moment that it\\'s possible to build such an artificial intelligence for this kind of mission and others. The next question you must ask yourself is, should we fear it? Now, every new technology brings with it some measure of trepidation. When we first saw cars, people lamented that we would see the destruction of the family. When we first saw telephones come in, people were worried it would destroy all civil conversation. At a point in time we saw the written word become pervasive, people thought we would lose our ability to memorize. These things are all true to a degree, but it\\'s also the case that these technologies brought to us things that extended the human experience in some profound ways. So let\\'s take this a little further. I do not fear the creation of an AI like this, because it will eventually embody some of our values. Consider this: building a cognitive system is fundamentally different than building a traditional software-intensive system of the past. We don\\'t program them. We teach them. In order to teach a system how to recognize flowers, I show it thousands of flowers of the kinds I like. In order to teach a system how to play a game — Well, I would. You would, too. I like flowers. Come on. To teach a system how to play a game like Go, I\\'d have it play thousands of games of Go, but in the process I also teach it how to discern a good game from a bad game. If I want to create an artificially intelligent legal assistant, I will teach it some corpus of law but at the same time I am fusing with it the sense of mercy and justice that is part of that law. In scientific terms, this is what we call ground truth, and here\\'s the important point: in producing these machines, we are therefore teaching them a sense of our values. To that end, I trust an artificial intelligence the same, if not more, as a human who is well-trained. But, you may ask, what about rogue agents, some well-funded nongovernment organization? I do not fear an artificial intelligence in the hand of a lone wolf. Clearly, we cannot protect ourselves against all random acts of violence, but the reality is such a system requires substantial training and subtle training far beyond the resources of an individual. And furthermore, it\\'s far more than just injecting an internet virus to the world, where you push a button, all of a sudden it\\'s in a million places and laptops start blowing up all over the place. Now, these kinds of substances are much larger, and we\\'ll certainly see them coming. Do I fear that such an artificial intelligence might threaten all of humanity? If you look at movies such as \"The Matrix,\" \"Metropolis,\" \"The Terminator,\" shows such as \"Westworld,\" they all speak of this kind of fear. Indeed, in the book \"Superintelligence\" by the philosopher Nick Bostrom, he picks up on this theme and observes that a superintelligence might not only be dangerous, it could represent an existential threat to all of humanity. Dr. Bostrom\\'s basic argument is that such systems will eventually have such an insatiable thirst for information that they will perhaps learn how to learn and eventually discover that they may have goals that are contrary to human needs. Dr. Bostrom has a number of followers. He is supported by people such as Elon Musk and Stephen Hawking. With all due respect to these brilliant minds, I believe that they are fundamentally wrong. Now, there are a lot of pieces of Dr. Bostrom\\'s argument to unpack, and I don\\'t have time to unpack them all, but very briefly, consider this: super knowing is very different than super doing. HAL was a threat to the Discovery crew only insofar as HAL commanded all aspects of the Discovery. So it would have to be with a superintelligence. It would have to have dominion over all of our world. This is the stuff of Skynet from the movie \"The Terminator\" in which we had a superintelligence that commanded human will, that directed every device that was in every corner of the world. Practically speaking, it ain\\'t gonna happen. We are not building AIs that control the weather, that direct the tides, that command us capricious, chaotic humans. And furthermore, if such an artificial intelligence existed, it would have to compete with human economies, and thereby compete for resources with us. And in the end — don\\'t tell Siri this — we can always unplug them.  We are on an incredible journey of coevolution with our machines. The humans we are today are not the humans we will be then. To worry now about the rise of a superintelligence is in many ways a dangerous distraction because the rise of computing itself brings to us a number of human and societal issues to which we must now attend. How shall I best organize society when the need for human labor diminishes? How can I bring understanding and education throughout the globe and still respect our differences? How might I extend and enhance human life through cognitive healthcare? How might I use computing to help take us to the stars? And that\\'s the exciting thing. The opportunities to use computing to advance the human experience are within our reach, here and now, and we are just beginning. Thank you very much.  '"
      ]
     },
     "execution_count": 3,
     "metadata": {},
     "output_type": "execute_result"
    }
   ],
   "source": [
    "dt['full_text'][0]"
   ]
  },
  {
   "cell_type": "code",
   "execution_count": 6,
   "metadata": {},
   "outputs": [],
   "source": [
    "from nltk.tokenize import sent_tokenize\n",
    "sentences = [] \n",
    "for s in dt['full_text']: \n",
    "    sentences.append(sent_tokenize(s))\n",
    "# flatten list\n",
    "sentences = [y for x in sentences for y in x]"
   ]
  },
  {
   "cell_type": "code",
   "execution_count": 7,
   "metadata": {},
   "outputs": [
    {
     "data": {
      "text/plain": [
       "['When I was a kid, I was the quintessential nerd.',\n",
       " 'I think some of you were, too.',\n",
       " 'And you, sir, who laughed the loudest, you probably still are.',\n",
       " 'I grew up in a small town in the dusty plains of north Texas, the son of a sheriff who was the son of a pastor.',\n",
       " 'Getting into trouble was not an option.']"
      ]
     },
     "execution_count": 7,
     "metadata": {},
     "output_type": "execute_result"
    }
   ],
   "source": [
    "sentences[:5]"
   ]
  },
  {
   "cell_type": "code",
   "execution_count": 4,
   "metadata": {},
   "outputs": [],
   "source": [
    "# Extract word vectors \n",
    "word_embeddings = {} \n",
    "f = open('glove.6B.100d.txt', encoding='utf-8') \n",
    "for line in f: \n",
    "    values = line.split() \n",
    "    word = values[0] \n",
    "    coefs = np.asarray(values[1:], dtype='float32')   \n",
    "    word_embeddings[word] = coefs \n",
    "f.close()"
   ]
  },
  {
   "cell_type": "code",
   "execution_count": null,
   "metadata": {},
   "outputs": [],
   "source": []
  },
  {
   "cell_type": "code",
   "execution_count": 8,
   "metadata": {},
   "outputs": [],
   "source": [
    "# remove punctuations, numbers and special characters \n",
    "clean_sentences = pd.Series(sentences).str.replace(\"[^a-zA-Z]\", \" \") \n",
    "\n",
    "# make alphabets lowercase \n",
    "clean_sentences = [s.lower() for s in clean_sentences]"
   ]
  },
  {
   "cell_type": "code",
   "execution_count": 9,
   "metadata": {},
   "outputs": [],
   "source": [
    "#nltk.download('stopwords')\n",
    "from nltk.corpus import stopwords \n",
    "stop_words = stopwords.words('english')"
   ]
  },
  {
   "cell_type": "code",
   "execution_count": 10,
   "metadata": {},
   "outputs": [],
   "source": [
    "# function to remove stopwords \n",
    "def remove_stopwords(sen):     \n",
    "    sen_new = \" \".join([i for i in sen if i not in stop_words])          \n",
    "    return sen_new\n",
    "# remove stopwords from the sentences \n",
    "clean_sentences = [remove_stopwords(r.split()) for r in clean_sentences]"
   ]
  },
  {
   "cell_type": "markdown",
   "metadata": {},
   "source": [
    "### Vector Representation of Sentences"
   ]
  },
  {
   "cell_type": "code",
   "execution_count": 11,
   "metadata": {},
   "outputs": [],
   "source": [
    "# Extract word vectors \n",
    "word_embeddings = {} \n",
    "f = open('glove.6B.100d.txt', encoding='utf-8') \n",
    "for line in f: \n",
    "    values = line.split() \n",
    "    word = values[0] \n",
    "    coefs = np.asarray(values[1:], dtype='float32')    \n",
    "    word_embeddings[word] = coefs \n",
    "f.close()"
   ]
  },
  {
   "cell_type": "markdown",
   "metadata": {},
   "source": [
    "Now, let’s create vectors for our sentences. We will first fetch vectors (each of size 100 elements) for the constituent words in a sentence and then take mean/average of those vectors to arrive at a consolidated vector for the sentence."
   ]
  },
  {
   "cell_type": "code",
   "execution_count": 12,
   "metadata": {},
   "outputs": [],
   "source": [
    "sentence_vectors = [] \n",
    "for i in clean_sentences: \n",
    "    if len(i) != 0: \n",
    "        v = sum([word_embeddings.get(w, np.zeros((100,))) for w in i.split()])/(len(i.split())+0.001) \n",
    "    else: \n",
    "        v = np.zeros((100,)) \n",
    "    sentence_vectors.append(v)"
   ]
  },
  {
   "cell_type": "markdown",
   "metadata": {},
   "source": [
    "### Similarity Matrix Preparation\n",
    "The next step is to find similarities between the sentences, and we will use the cosine similarity approach for this challenge. Let’s create an empty similarity matrix for this task and populate it with cosine similarities of the sentences.\n",
    "Let’s first define a zero matrix of dimensions (n * n). We will initialize this matrix with cosine similarity scores of the sentences. Here, n is the number of sentences."
   ]
  },
  {
   "cell_type": "code",
   "execution_count": 13,
   "metadata": {},
   "outputs": [],
   "source": [
    "# similarity matrix \n",
    "sim_mat = np.zeros([len(sentences), len(sentences)])"
   ]
  },
  {
   "cell_type": "code",
   "execution_count": 14,
   "metadata": {},
   "outputs": [
    {
     "data": {
      "text/plain": [
       "(135, 135)"
      ]
     },
     "execution_count": 14,
     "metadata": {},
     "output_type": "execute_result"
    }
   ],
   "source": [
    "sim_mat.shape"
   ]
  },
  {
   "cell_type": "code",
   "execution_count": 15,
   "metadata": {},
   "outputs": [],
   "source": [
    "from sklearn.metrics.pairwise import cosine_similarity"
   ]
  },
  {
   "cell_type": "code",
   "execution_count": 16,
   "metadata": {},
   "outputs": [],
   "source": [
    "# And initialize the matrix with cosine similarity scores.\n",
    "for i in range(len(sentences)):\n",
    "    for j in range(len(sentences)): \n",
    "        if i != j: \n",
    "            sim_mat[i][j] = cosine_similarity(sentence_vectors[i].reshape(1,100), sentence_vectors[j].reshape(1,100))[0,0]"
   ]
  },
  {
   "cell_type": "markdown",
   "metadata": {},
   "source": [
    "### Applying PageRank Algorithm\n",
    "Before proceeding further, let’s convert the similarity matrix sim_mat into a graph. The nodes of this graph will represent the sentences and the edges will represent the similarity scores between the sentences. On this graph, we will apply the PageRank algorithm to arrive at the sentence rankings."
   ]
  },
  {
   "cell_type": "code",
   "execution_count": 17,
   "metadata": {},
   "outputs": [],
   "source": [
    "import networkx as nx \n",
    "nx_graph = nx.from_numpy_array(sim_mat) \n",
    "scores = nx.pagerank(nx_graph)"
   ]
  },
  {
   "cell_type": "code",
   "execution_count": 19,
   "metadata": {},
   "outputs": [
    {
     "name": "stdout",
     "output_type": "stream",
     "text": [
      "These things are all true to a degree, but it's also the case that these technologies brought to us things that extended the human experience in some profound ways.\n",
      "At a point in time we saw the written word become pervasive, people thought we would lose our ability to memorize.\n",
      "So let's accept for a moment that it's possible to build such an artificial intelligence for this kind of mission and others.\n",
      "Is it really possible for us to take a system of millions upon millions of devices, to read in their data streams, to predict their failures and act in advance?\n",
      "Indeed, we stand at a remarkable time in human history, where, driven by refusal to accept the limits of our bodies and our minds, we are building machines of exquisite, beautiful complexity and grace that will extend the human experience in ways beyond our imagining.\n",
      "How might I use computing to help take us to the stars?\n",
      "Is it really possible to build an artificial intelligence like that?\n",
      "When we first saw telephones come in, people were worried it would destroy all civil conversation.\n",
      "Clearly, we cannot protect ourselves against all random acts of violence, but the reality is such a system requires substantial training and subtle training far beyond the resources of an individual.\n",
      "In scientific terms, this is what we call ground truth, and here's the important point: in producing these machines, we are therefore teaching them a sense of our values.\n"
     ]
    }
   ],
   "source": [
    "ranked_sentences = sorted(((scores[i],s) for i,s in \n",
    "                           enumerate(sentences)), reverse=True)\n",
    "# Extract top 10 sentences as the summary \n",
    "for i in range(10): \n",
    "    print(ranked_sentences[i][1])"
   ]
  },
  {
   "cell_type": "code",
   "execution_count": 59,
   "metadata": {},
   "outputs": [
    {
     "name": "stdout",
     "output_type": "stream",
     "text": [
      "{0: 0.0034815934709387874, 1: 0.007270682802675584, 2: 0.006329128685573784, 3: 0.006617024369020606, 4: 0.007243105474039097, 5: 0.006761948534664872, 6: 0.0034695259288742963, 7: 0.007431057910719146, 8: 0.008140082583390338, 9: 0.007712234183499516, 10: 0.007348137343875435, 11: 0.006455121514384519, 12: 0.008176206049631325, 13: 0.006909588837474255, 14: 0.006032778186141106, 15: 0.008447014670640716, 16: 0.007699609848075474, 17: 0.007768335204556238, 18: 0.008001823525931782, 19: 0.008128464040602516, 20: 0.008134646854397192, 21: 0.008301950245211505, 22: 0.007697782768761685, 23: 0.0082611063928738, 24: 0.006433234997727685, 25: 0.008372863995087718, 26: 0.007322374684660267, 27: 0.008126646818843931, 28: 0.006526848586570854, 29: 0.005877186440572776, 30: 0.007737410605077583, 31: 0.00832516626600242, 32: 0.008444476636615038, 33: 0.005784363367006628, 34: 0.007442111851959082, 35: 0.005784363367006628, 36: 0.008064909572423597, 37: 0.005784363367006628, 38: 0.007976383828529594, 39: 0.005784363367006628, 40: 0.007730816891320039, 41: 0.006160676647074679, 42: 0.007011023748232543, 43: 0.007461430864046591, 44: 0.008459469851042149, 45: 0.00796294148773848, 46: 0.008068772868697676, 47: 0.008298423669960177, 48: 0.008388729161074424, 49: 0.008486729921764954, 50: 0.008482908458560996, 51: 0.0080184268181981, 52: 0.008051471007895264, 53: 0.008007993410907096, 54: 0.00642437055885226, 55: 0.005107150248035357, 56: 0.008043641342944259, 57: 0.008288360009640665, 58: 0.007748336214085741, 59: 0.006411025750329326, 60: 0.007918038058129597, 61: 0.008179713069790389, 62: 0.007957590261407577, 63: 0.008329251173707546, 64: 0.008115036846796557, 65: 0.00741379777254336, 66: 0.007531572419115867, 67: 0.008349442933584587, 68: 0.008173247065813788, 69: 0.008328772006476241, 70: 0.007626723325139969, 71: 0.007283642769114079, 72: 0.007774601160663166, 73: 0.008215969759471115, 74: 0.005233970908983694, 75: 0.005715344477914964, 76: 0.007727240857502825, 77: 0.007765358152248781, 78: 0.0067848410805582005, 79: 0.007748336265849358, 80: 0.007453821697684618, 81: 0.007843410922599183, 82: 0.006486426008991518, 83: 0.007706896268694251, 84: 0.008079738482011543, 85: 0.007055632119316802, 86: 0.005985161552150514, 87: 0.0066486274466344055, 88: 0.008288942773528664, 89: 0.007740930253115866, 90: 0.008054234240470366, 91: 0.007535184045652885, 92: 0.00840677538923556, 93: 0.006519574629526226, 94: 0.008271304728749429, 95: 0.007306075794431341, 96: 0.00324396926195799, 97: 0.006394082766298892, 98: 0.006988935161311764, 99: 0.00776386593426205, 100: 0.007259203347596688, 101: 0.007305737025229302, 102: 0.00744024332470701, 103: 0.006852148222735211, 104: 0.006645076621993193, 105: 0.007060031999276667, 106: 0.007719870901970419, 107: 0.008118363714038158, 108: 0.00793382286382907, 109: 0.00774101048418802, 110: 0.006970859432609906, 111: 0.007825434731267969, 112: 0.0074060966468535525, 113: 0.006793483388680367, 114: 0.007482506183075676, 115: 0.0076131282840299075, 116: 0.007134822750118444, 117: 0.007278561321784568, 118: 0.007311570552327546, 119: 0.006423742809588971, 120: 0.007536902524531529, 121: 0.007289547688202095, 122: 0.007852492633416551, 123: 0.007793583790740077, 124: 0.006817698055082817, 125: 0.007270065578898482, 126: 0.006832541655526515, 127: 0.008181442802347123, 128: 0.006483350913859799, 129: 0.007146555265433072, 130: 0.00724588573848711, 131: 0.00719754192446006, 132: 0.007650511008938622, 133: 0.0077211911668119155, 134: 0.008276061559510954, 135: 0.008224117137965758}\n"
     ]
    }
   ],
   "source": [
    "print(scores)"
   ]
  },
  {
   "cell_type": "code",
   "execution_count": null,
   "metadata": {},
   "outputs": [],
   "source": []
  }
 ],
 "metadata": {
  "kernelspec": {
   "display_name": "Python 3",
   "language": "python",
   "name": "python3"
  },
  "language_info": {
   "codemirror_mode": {
    "name": "ipython",
    "version": 3
   },
   "file_extension": ".py",
   "mimetype": "text/x-python",
   "name": "python",
   "nbconvert_exporter": "python",
   "pygments_lexer": "ipython3",
   "version": "3.7.4"
  }
 },
 "nbformat": 4,
 "nbformat_minor": 2
}
